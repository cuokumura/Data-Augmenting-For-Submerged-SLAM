{
  "cells": [
    {
      "cell_type": "markdown",
      "metadata": {
        "id": "gsFARkmdZisW"
      },
      "source": [
        "# Notebook to Evaluate ORB-SLAM3 Performance\n",
        "Built upon an ipynb file by Xinyi Liu"
      ]
    },
    {
      "cell_type": "markdown",
      "metadata": {
        "id": "TXxYED_3Zisb"
      },
      "source": [
        "First, we install the requirements."
      ]
    },
    {
      "cell_type": "code",
      "execution_count": null,
      "metadata": {
        "scrolled": true,
        "colab": {
          "base_uri": "https://localhost:8080/"
        },
        "id": "uOm7ODVlZisc",
        "outputId": "0cce3da9-6880-4fe8-8caa-663c682136eb"
      },
      "outputs": [
        {
          "output_type": "stream",
          "name": "stdout",
          "text": [
            "Collecting evo\n",
            "  Downloading evo-1.26.2.tar.gz (129 kB)\n",
            "\u001b[2K     \u001b[90m━━━━━━━━━━━━━━━━━━━━━━━━━━━━━━━━━━━━━━━━\u001b[0m \u001b[32m129.6/129.6 kB\u001b[0m \u001b[31m1.7 MB/s\u001b[0m eta \u001b[36m0:00:00\u001b[0m\n",
            "\u001b[?25h  Preparing metadata (setup.py) ... \u001b[?25l\u001b[?25hdone\n",
            "Requirement already satisfied: numpy>=1.18.5 in /usr/local/lib/python3.10/dist-packages (from evo) (1.25.2)\n",
            "Requirement already satisfied: matplotlib in /usr/local/lib/python3.10/dist-packages (from evo) (3.7.1)\n",
            "Requirement already satisfied: scipy>=1.2 in /usr/local/lib/python3.10/dist-packages (from evo) (1.11.4)\n",
            "Requirement already satisfied: pandas in /usr/local/lib/python3.10/dist-packages (from evo) (2.0.3)\n",
            "Requirement already satisfied: numexpr>=2.7.3 in /usr/local/lib/python3.10/dist-packages (from evo) (2.10.0)\n",
            "Requirement already satisfied: seaborn>=0.9 in /usr/local/lib/python3.10/dist-packages (from evo) (0.13.1)\n",
            "Requirement already satisfied: natsort in /usr/local/lib/python3.10/dist-packages (from evo) (8.4.0)\n",
            "Collecting argcomplete (from evo)\n",
            "  Downloading argcomplete-3.2.3-py3-none-any.whl (42 kB)\n",
            "\u001b[2K     \u001b[90m━━━━━━━━━━━━━━━━━━━━━━━━━━━━━━━━━━━━━━━━\u001b[0m \u001b[32m42.6/42.6 kB\u001b[0m \u001b[31m980.7 kB/s\u001b[0m eta \u001b[36m0:00:00\u001b[0m\n",
            "\u001b[?25hCollecting colorama>=0.3 (from evo)\n",
            "  Downloading colorama-0.4.6-py2.py3-none-any.whl (25 kB)\n",
            "Requirement already satisfied: pygments in /usr/local/lib/python3.10/dist-packages (from evo) (2.16.1)\n",
            "Requirement already satisfied: pyyaml in /usr/local/lib/python3.10/dist-packages (from evo) (6.0.1)\n",
            "Requirement already satisfied: pillow in /usr/local/lib/python3.10/dist-packages (from evo) (9.4.0)\n",
            "Collecting rosbags<0.9.20,>=0.9.10 (from evo)\n",
            "  Downloading rosbags-0.9.19-py3-none-any.whl (77 kB)\n",
            "\u001b[2K     \u001b[90m━━━━━━━━━━━━━━━━━━━━━━━━━━━━━━━━━━━━━━━━\u001b[0m \u001b[32m77.6/77.6 kB\u001b[0m \u001b[31m2.6 MB/s\u001b[0m eta \u001b[36m0:00:00\u001b[0m\n",
            "\u001b[?25hCollecting lz4 (from rosbags<0.9.20,>=0.9.10->evo)\n",
            "  Downloading lz4-4.3.3-cp310-cp310-manylinux_2_17_x86_64.manylinux2014_x86_64.whl (1.3 MB)\n",
            "\u001b[2K     \u001b[90m━━━━━━━━━━━━━━━━━━━━━━━━━━━━━━━━━━━━━━━━\u001b[0m \u001b[32m1.3/1.3 MB\u001b[0m \u001b[31m8.0 MB/s\u001b[0m eta \u001b[36m0:00:00\u001b[0m\n",
            "\u001b[?25hCollecting ruamel.yaml (from rosbags<0.9.20,>=0.9.10->evo)\n",
            "  Downloading ruamel.yaml-0.18.6-py3-none-any.whl (117 kB)\n",
            "\u001b[2K     \u001b[90m━━━━━━━━━━━━━━━━━━━━━━━━━━━━━━━━━━━━━━━━\u001b[0m \u001b[32m117.8/117.8 kB\u001b[0m \u001b[31m1.5 MB/s\u001b[0m eta \u001b[36m0:00:00\u001b[0m\n",
            "\u001b[?25hCollecting zstandard (from rosbags<0.9.20,>=0.9.10->evo)\n",
            "  Downloading zstandard-0.22.0-cp310-cp310-manylinux_2_17_x86_64.manylinux2014_x86_64.whl (5.4 MB)\n",
            "\u001b[2K     \u001b[90m━━━━━━━━━━━━━━━━━━━━━━━━━━━━━━━━━━━━━━━━\u001b[0m \u001b[32m5.4/5.4 MB\u001b[0m \u001b[31m14.7 MB/s\u001b[0m eta \u001b[36m0:00:00\u001b[0m\n",
            "\u001b[?25hRequirement already satisfied: contourpy>=1.0.1 in /usr/local/lib/python3.10/dist-packages (from matplotlib->evo) (1.2.1)\n",
            "Requirement already satisfied: cycler>=0.10 in /usr/local/lib/python3.10/dist-packages (from matplotlib->evo) (0.12.1)\n",
            "Requirement already satisfied: fonttools>=4.22.0 in /usr/local/lib/python3.10/dist-packages (from matplotlib->evo) (4.50.0)\n",
            "Requirement already satisfied: kiwisolver>=1.0.1 in /usr/local/lib/python3.10/dist-packages (from matplotlib->evo) (1.4.5)\n",
            "Requirement already satisfied: packaging>=20.0 in /usr/local/lib/python3.10/dist-packages (from matplotlib->evo) (24.0)\n",
            "Requirement already satisfied: pyparsing>=2.3.1 in /usr/local/lib/python3.10/dist-packages (from matplotlib->evo) (3.1.2)\n",
            "Requirement already satisfied: python-dateutil>=2.7 in /usr/local/lib/python3.10/dist-packages (from matplotlib->evo) (2.8.2)\n",
            "Requirement already satisfied: pytz>=2020.1 in /usr/local/lib/python3.10/dist-packages (from pandas->evo) (2023.4)\n",
            "Requirement already satisfied: tzdata>=2022.1 in /usr/local/lib/python3.10/dist-packages (from pandas->evo) (2024.1)\n",
            "Requirement already satisfied: six>=1.5 in /usr/local/lib/python3.10/dist-packages (from python-dateutil>=2.7->matplotlib->evo) (1.16.0)\n",
            "Collecting ruamel.yaml.clib>=0.2.7 (from ruamel.yaml->rosbags<0.9.20,>=0.9.10->evo)\n",
            "  Downloading ruamel.yaml.clib-0.2.8-cp310-cp310-manylinux_2_17_x86_64.manylinux2014_x86_64.manylinux_2_24_x86_64.whl (526 kB)\n",
            "\u001b[2K     \u001b[90m━━━━━━━━━━━━━━━━━━━━━━━━━━━━━━━━━━━━━━━━\u001b[0m \u001b[32m526.7/526.7 kB\u001b[0m \u001b[31m16.6 MB/s\u001b[0m eta \u001b[36m0:00:00\u001b[0m\n",
            "\u001b[?25hBuilding wheels for collected packages: evo\n",
            "  Building wheel for evo (setup.py) ... \u001b[?25l\u001b[?25hdone\n",
            "  Created wheel for evo: filename=evo-1.26.2-py3-none-any.whl size=141145 sha256=a608c4418bc8b4827e7db4463ead486370e8f298bc873cc5dbce934d064c274d\n",
            "  Stored in directory: /root/.cache/pip/wheels/d2/54/e4/a8d9d1c1a39dcdb0a7116bba96390602eb815b3334a8400b49\n",
            "Successfully built evo\n",
            "Installing collected packages: zstandard, ruamel.yaml.clib, lz4, colorama, argcomplete, ruamel.yaml, rosbags, evo\n",
            "Successfully installed argcomplete-3.2.3 colorama-0.4.6 evo-1.26.2 lz4-4.3.3 rosbags-0.9.19 ruamel.yaml-0.18.6 ruamel.yaml.clib-0.2.8 zstandard-0.22.0\n",
            "\u001b[93mInitialized new /root/.evo/settings.json\u001b[39m\n"
          ]
        }
      ],
      "source": [
        "!pip install evo\n",
        "from evo.tools import log\n",
        "log.configure_logging()"
      ]
    },
    {
      "cell_type": "code",
      "execution_count": null,
      "metadata": {
        "id": "ketpiPhgZise"
      },
      "outputs": [],
      "source": [
        "from evo.tools import plot\n",
        "from evo.tools.plot import PlotMode\n",
        "from evo.core.metrics import PoseRelation, Unit\n",
        "from evo.tools.settings import SETTINGS\n",
        "\n",
        "# temporarily override some package settings\n",
        "SETTINGS.plot_figsize = [6, 6]\n",
        "SETTINGS.plot_split = True\n",
        "SETTINGS.plot_usetex = False\n",
        "\n",
        "# magic plot configuration\n",
        "import matplotlib.pyplot as plt\n",
        "%matplotlib inline"
      ]
    },
    {
      "cell_type": "code",
      "execution_count": null,
      "metadata": {
        "id": "Wjx-n1MeZisf"
      },
      "outputs": [],
      "source": [
        "# interactive widgets configuration\n",
        "import ipywidgets\n",
        "\n",
        "check_opts_ape = {\"align\": False, \"correct_scale\": False, \"show_plot\": True}\n",
        "check_boxes_ape=[ipywidgets.Checkbox(description=desc, value=val) for desc, val in check_opts_ape.items()]\n",
        "check_opts_rpe = {\"align\": False, \"correct_scale\": False, \"all_pairs\": False, \"show_plot\": True}\n",
        "check_boxes_rpe=[ipywidgets.Checkbox(description=desc, value=val) for desc, val in check_opts_rpe.items()]\n",
        "delta_input = ipywidgets.FloatText(value=1.0, description='delta', disabled=False, color='black')\n",
        "delta_unit_selector=ipywidgets.Dropdown(\n",
        "    options={u.value: u for u in Unit if u is not Unit.seconds},\n",
        "    value=Unit.frames, description='delta_unit'\n",
        ")\n",
        "plotmode_selector=ipywidgets.Dropdown(\n",
        "    options={p.value: p for p in PlotMode},\n",
        "    value=PlotMode.xy, description='plot_mode'\n",
        ")\n",
        "pose_relation_selector=ipywidgets.Dropdown(\n",
        "    options={p.value: p for p in PoseRelation},\n",
        "    value=PoseRelation.translation_part, description='pose_relation'\n",
        ")"
      ]
    },
    {
      "cell_type": "markdown",
      "metadata": {
        "id": "3lxapcf_Zisg"
      },
      "source": [
        "---\n",
        "\n",
        "## Load trajectories"
      ]
    },
    {
      "cell_type": "code",
      "execution_count": null,
      "metadata": {
        "id": "_87iYMHWZisg"
      },
      "outputs": [],
      "source": [
        "from evo.tools import file_interface\n",
        "from evo.core import sync\n",
        "import evo.main_ape as main_ape\n",
        "import numpy as np\n",
        "import matplotlib.pyplot as plt"
      ]
    },
    {
      "cell_type": "markdown",
      "metadata": {
        "id": "vFwwxy_qZish"
      },
      "source": [
        "1. **load TUM files with** 3D position and orientation quaternion per line ($x$ $y$ $z$ $q_x$ $q_y$ $q_z$ $q_w$)\n",
        "2. Grid search to find a time offset value that minimizes rmse\n",
        "3. Save the parameters for visualization"
      ]
    },
    {
      "cell_type": "code",
      "execution_count": null,
      "metadata": {
        "id": "B4BF5up6Zisi"
      },
      "outputs": [],
      "source": [
        "# @title Hyperparameter Tuning\n",
        "traj_ref_raw = file_interface.read_tum_trajectory_file(\"GT.txt\")\n",
        "traj_est_raw = file_interface.read_tum_trajectory_file(\"f_gan.txt\")\n",
        "\n",
        "# we are searching through offset region to find the minimum rmse for each categories\n",
        "vals = np.logspace(4,8)\n",
        "\n",
        "results = np.zeros(vals.shape[0])\n",
        "for i in range(vals.shape[0]):\n",
        "    val = vals[i]\n",
        "    try:\n",
        "        traj_ref, traj_est = sync.associate_trajectories(traj_ref_raw, traj_est_raw, max_diff=1e8, offset_2=val)\n",
        "        result = main_ape.ape(traj_ref, traj_est, PoseRelation.translation_part, align=True, correct_scale=True)\n",
        "\n",
        "        if result.trajectories[\"estimate\"].num_poses >= 300:\n",
        "            print(\"good matching\")\n",
        "            results[i] = result.stats[\"rmse\"]\n",
        "        else:\n",
        "            print(\"poor matching\")\n",
        "            results[i] = np.NaN\n",
        "    except:\n",
        "        print('caught exception')\n",
        "        results[i] = np.NaN"
      ]
    },
    {
      "cell_type": "code",
      "execution_count": null,
      "metadata": {
        "scrolled": true,
        "id": "T_2nfFKFZisj"
      },
      "outputs": [],
      "source": [
        "# @title Graph the Results of Hyperparameter Tuning\n",
        "print(results)\n",
        "plt.plot(vals, results)\n",
        "plt.xscale('log')\n",
        "# plt.show()\n",
        "vals[np.argmin(results)]"
      ]
    },
    {
      "cell_type": "markdown",
      "metadata": {
        "id": "Gf4XgwOeZisk"
      },
      "source": [
        "### Interactive APE Demo\n",
        "***Run the code below, configure the parameters in the GUI, and press the \"Run Interact\" button.***\n",
        "\n",
        "Our evaluation primarily uses the \"full transformation\" pose relation with the \"align\" and \"correct_scale\" options."
      ]
    },
    {
      "cell_type": "code",
      "execution_count": null,
      "metadata": {
        "scrolled": false,
        "colab": {
          "base_uri": "https://localhost:8080/",
          "height": 851,
          "referenced_widgets": [
            "690dc7d757f3448082d3b6d33f57779d",
            "f280a6969a7f405593ec90c406f300e3",
            "fc0c7233ddc14192a7f387cd3f05413a",
            "ffe9bc120f5d478cbce764c9a7abd0f3",
            "22121ca65116400daeb0c4e0555bad72",
            "6e85329c7060463eb3202f7f64241664",
            "b78aaebfce744502bac7c680c0c4f2b0",
            "ca0590b402834b9097fd6b97f1c227db",
            "f0ef367465ec4cdbb8182a08d42fbe08",
            "c4e4047e0de04371bc897b15f34bb4b9",
            "bf3999b91ee841f98ba99e9549a9a581",
            "35026c01126744059a5d0efbd71a5286",
            "1ba04e4bfed747b4be8e9111d1028ae5",
            "f67e7e57377f42518abc01727cee5298",
            "27de3f22f63a41f3ae504f78d1838ce3",
            "f2a7fd090dff4f02a6946e6e2de96001",
            "e56984b364e5414e895732c5665dd726",
            "e0ae21fdaf7e4a1bbb9349c095a29857",
            "6635839e1897451eac42d6a1d83c010e",
            "e7b3626eae9a4622a5c33854a35256d9",
            "10b6b7757d4f46a58ee5da8ca672985d",
            "afb5bf489bfb4c6db77a050c755ea938"
          ]
        },
        "id": "_Vw1PmWVZisk",
        "outputId": "583fab47-2e1f-4f17-e91b-b230036c86b1"
      },
      "outputs": [
        {
          "output_type": "stream",
          "name": "stdout",
          "text": [
            "Dropdown(description='pose_relation', index=1, options={'full transformation': <PoseRelation.full_transformation: 'full transformation'>, 'translation part': <PoseRelation.translation_part: 'translation part'>, 'rotation part': <PoseRelation.rotation_part: 'rotation part'>, 'rotation angle in radians': <PoseRelation.rotation_angle_rad: 'rotation angle in radians'>, 'rotation angle in degrees': <PoseRelation.rotation_angle_deg: 'rotation angle in degrees'>, 'point distance': <PoseRelation.point_distance: 'point distance'>, 'point distance error ratio': <PoseRelation.point_distance_error_ratio: 'point distance error ratio'>}, value=<PoseRelation.translation_part: 'translation part'>)\n"
          ]
        },
        {
          "output_type": "display_data",
          "data": {
            "text/plain": [
              "interactive(children=(Dropdown(description='pose_relation', index=1, options={'full transformation': <PoseRela…"
            ],
            "application/vnd.jupyter.widget-view+json": {
              "version_major": 2,
              "version_minor": 0,
              "model_id": "690dc7d757f3448082d3b6d33f57779d"
            }
          },
          "metadata": {}
        },
        {
          "output_type": "display_data",
          "data": {
            "text/plain": [
              "<Figure size 640x480 with 2 Axes>"
            ],
            "image/png": "[encoded data removed]"
          },
          "metadata": {}
        }
      ],
      "source": [
        "import evo.main_ape as main_ape\n",
        "import evo.common_ape_rpe as common\n",
        "\n",
        "count = 0\n",
        "results = []\n",
        "\n",
        "def callback_ape(pose_relation, align, correct_scale, plot_mode, show_plot):\n",
        "    global results, count\n",
        "    est_name=\"APE Test #{}\".format(count)\n",
        "\n",
        "    result = main_ape.ape(traj_ref, traj_est, est_name=est_name,\n",
        "                          pose_relation=pose_relation, align=align, correct_scale=correct_scale)\n",
        "    count += 1\n",
        "    results.append(result)\n",
        "\n",
        "    if show_plot:\n",
        "        fig = plt.figure()\n",
        "        ax = plot.prepare_axis(fig, plot_mode)\n",
        "        plot.traj(ax, plot_mode, traj_ref, style=\"--\", alpha=0.5)\n",
        "        plot.traj_colormap(\n",
        "            ax, result.trajectories[est_name], result.np_arrays[\"error_array\"], plot_mode,\n",
        "            min_map=result.stats[\"min\"], max_map=result.stats[\"max\"])\n",
        "\n",
        "print(pose_relation_selector)\n",
        "\n",
        "traj_ref_raw = file_interface.read_tum_trajectory_file(\"GT.txt\")\n",
        "traj_est_raw = file_interface.read_tum_trajectory_file(\"kf_inertial_dce.txt\")\n",
        "\n",
        "\n",
        "traj_ref, traj_est = sync.associate_trajectories(traj_ref_raw, traj_est_raw, max_diff=1e8, offset_2=1523957608053646848 - 1523957607455213652)\n",
        "\n",
        "_ = ipywidgets.interact_manual(callback_ape, pose_relation=pose_relation_selector, plot_mode=plotmode_selector,\n",
        "                               **{c.description: c.value for c in check_boxes_ape})"
      ]
    }
  ],
  "metadata": {
    "kernelspec": {
      "display_name": "Python 3 (ipykernel)",
      "language": "python",
      "name": "python3"
    },
    "language_info": {
      "codemirror_mode": {
        "name": "ipython",
        "version": 2
      },
      "file_extension": ".py",
      "mimetype": "text/x-python",
      "name": "python",
      "nbconvert_exporter": "python",
      "pygments_lexer": "ipython2",
      "version": "2.7.18"
    },
    "colab": {
      "provenance": []
    },
    "widgets": {
      "application/vnd.jupyter.widget-state+json": {
        "690dc7d757f3448082d3b6d33f57779d": {
          "model_module": "@jupyter-widgets/controls",
          "model_name": "VBoxModel",
          "model_module_version": "1.5.0",
          "state": {
            "_dom_classes": [
              "widget-interact"
            ],
            "_model_module": "@jupyter-widgets/controls",
            "_model_module_version": "1.5.0",
            "_model_name": "VBoxModel",
            "_view_count": null,
            "_view_module": "@jupyter-widgets/controls",
            "_view_module_version": "1.5.0",
            "_view_name": "VBoxView",
            "box_style": "",
            "children": [
              "IPY_MODEL_f280a6969a7f405593ec90c406f300e3",
              "IPY_MODEL_fc0c7233ddc14192a7f387cd3f05413a",
              "IPY_MODEL_ffe9bc120f5d478cbce764c9a7abd0f3",
              "IPY_MODEL_22121ca65116400daeb0c4e0555bad72",
              "IPY_MODEL_6e85329c7060463eb3202f7f64241664",
              "IPY_MODEL_b78aaebfce744502bac7c680c0c4f2b0",
              "IPY_MODEL_ca0590b402834b9097fd6b97f1c227db"
            ],
            "layout": "IPY_MODEL_f0ef367465ec4cdbb8182a08d42fbe08"
          }
        },
        "f280a6969a7f405593ec90c406f300e3": {
          "model_module": "@jupyter-widgets/controls",
          "model_name": "DropdownModel",
          "model_module_version": "1.5.0",
          "state": {
            "_dom_classes": [],
            "_model_module": "@jupyter-widgets/controls",
            "_model_module_version": "1.5.0",
            "_model_name": "DropdownModel",
            "_options_labels": [
              "full transformation",
              "translation part",
              "rotation part",
              "rotation angle in radians",
              "rotation angle in degrees",
              "point distance",
              "point distance error ratio"
            ],
            "_view_count": null,
            "_view_module": "@jupyter-widgets/controls",
            "_view_module_version": "1.5.0",
            "_view_name": "DropdownView",
            "description": "pose_relation",
            "description_tooltip": null,
            "disabled": false,
            "index": 1,
            "layout": "IPY_MODEL_c4e4047e0de04371bc897b15f34bb4b9",
            "style": "IPY_MODEL_bf3999b91ee841f98ba99e9549a9a581"
          }
        },
        "fc0c7233ddc14192a7f387cd3f05413a": {
          "model_module": "@jupyter-widgets/controls",
          "model_name": "CheckboxModel",
          "model_module_version": "1.5.0",
          "state": {
            "_dom_classes": [],
            "_model_module": "@jupyter-widgets/controls",
            "_model_module_version": "1.5.0",
            "_model_name": "CheckboxModel",
            "_view_count": null,
            "_view_module": "@jupyter-widgets/controls",
            "_view_module_version": "1.5.0",
            "_view_name": "CheckboxView",
            "description": "align",
            "description_tooltip": null,
            "disabled": false,
            "indent": true,
            "layout": "IPY_MODEL_35026c01126744059a5d0efbd71a5286",
            "style": "IPY_MODEL_1ba04e4bfed747b4be8e9111d1028ae5",
            "value": true
          }
        },
        "ffe9bc120f5d478cbce764c9a7abd0f3": {
          "model_module": "@jupyter-widgets/controls",
          "model_name": "CheckboxModel",
          "model_module_version": "1.5.0",
          "state": {
            "_dom_classes": [],
            "_model_module": "@jupyter-widgets/controls",
            "_model_module_version": "1.5.0",
            "_model_name": "CheckboxModel",
            "_view_count": null,
            "_view_module": "@jupyter-widgets/controls",
            "_view_module_version": "1.5.0",
            "_view_name": "CheckboxView",
            "description": "correct_scale",
            "description_tooltip": null,
            "disabled": false,
            "indent": true,
            "layout": "IPY_MODEL_f67e7e57377f42518abc01727cee5298",
            "style": "IPY_MODEL_27de3f22f63a41f3ae504f78d1838ce3",
            "value": true
          }
        },
        "22121ca65116400daeb0c4e0555bad72": {
          "model_module": "@jupyter-widgets/controls",
          "model_name": "DropdownModel",
          "model_module_version": "1.5.0",
          "state": {
            "_dom_classes": [],
            "_model_module": "@jupyter-widgets/controls",
            "_model_module_version": "1.5.0",
            "_model_name": "DropdownModel",
            "_options_labels": [
              "xy",
              "xz",
              "yx",
              "yz",
              "zx",
              "zy",
              "xyz"
            ],
            "_view_count": null,
            "_view_module": "@jupyter-widgets/controls",
            "_view_module_version": "1.5.0",
            "_view_name": "DropdownView",
            "description": "plot_mode",
            "description_tooltip": null,
            "disabled": false,
            "index": 0,
            "layout": "IPY_MODEL_f2a7fd090dff4f02a6946e6e2de96001",
            "style": "IPY_MODEL_e56984b364e5414e895732c5665dd726"
          }
        },
        "6e85329c7060463eb3202f7f64241664": {
          "model_module": "@jupyter-widgets/controls",
          "model_name": "CheckboxModel",
          "model_module_version": "1.5.0",
          "state": {
            "_dom_classes": [],
            "_model_module": "@jupyter-widgets/controls",
            "_model_module_version": "1.5.0",
            "_model_name": "CheckboxModel",
            "_view_count": null,
            "_view_module": "@jupyter-widgets/controls",
            "_view_module_version": "1.5.0",
            "_view_name": "CheckboxView",
            "description": "show_plot",
            "description_tooltip": null,
            "disabled": false,
            "indent": true,
            "layout": "IPY_MODEL_e0ae21fdaf7e4a1bbb9349c095a29857",
            "style": "IPY_MODEL_6635839e1897451eac42d6a1d83c010e",
            "value": true
          }
        },
        "b78aaebfce744502bac7c680c0c4f2b0": {
          "model_module": "@jupyter-widgets/controls",
          "model_name": "ButtonModel",
          "model_module_version": "1.5.0",
          "state": {
            "_dom_classes": [],
            "_model_module": "@jupyter-widgets/controls",
            "_model_module_version": "1.5.0",
            "_model_name": "ButtonModel",
            "_view_count": null,
            "_view_module": "@jupyter-widgets/controls",
            "_view_module_version": "1.5.0",
            "_view_name": "ButtonView",
            "button_style": "",
            "description": "Run Interact",
            "disabled": false,
            "icon": "",
            "layout": "IPY_MODEL_e7b3626eae9a4622a5c33854a35256d9",
            "style": "IPY_MODEL_10b6b7757d4f46a58ee5da8ca672985d",
            "tooltip": ""
          }
        },
        "ca0590b402834b9097fd6b97f1c227db": {
          "model_module": "@jupyter-widgets/output",
          "model_name": "OutputModel",
          "model_module_version": "1.0.0",
          "state": {
            "_dom_classes": [],
            "_model_module": "@jupyter-widgets/output",
            "_model_module_version": "1.0.0",
            "_model_name": "OutputModel",
            "_view_count": null,
            "_view_module": "@jupyter-widgets/output",
            "_view_module_version": "1.0.0",
            "_view_name": "OutputView",
            "layout": "IPY_MODEL_afb5bf489bfb4c6db77a050c755ea938",
            "msg_id": "",
            "outputs": [
              {
                "output_type": "stream",
                "name": "stdout",
                "text": [
                  "APE w.r.t. translation part (m)\n",
                  "(with Sim(3) Umeyama alignment)\n",
                  "\n",
                  "       max\t7.932444\n",
                  "      mean\t2.884678\n",
                  "    median\t2.371943\n",
                  "       min\t0.764022\n",
                  "      rmse\t3.394826\n",
                  "       sse\t4264.192873\n",
                  "       std\t1.789826\n",
                  "\n"
                ]
              }
            ]
          }
        },
        "f0ef367465ec4cdbb8182a08d42fbe08": {
          "model_module": "@jupyter-widgets/base",
          "model_name": "LayoutModel",
          "model_module_version": "1.2.0",
          "state": {
            "_model_module": "@jupyter-widgets/base",
            "_model_module_version": "1.2.0",
            "_model_name": "LayoutModel",
            "_view_count": null,
            "_view_module": "@jupyter-widgets/base",
            "_view_module_version": "1.2.0",
            "_view_name": "LayoutView",
            "align_content": null,
            "align_items": null,
            "align_self": null,
            "border": null,
            "bottom": null,
            "display": null,
            "flex": null,
            "flex_flow": null,
            "grid_area": null,
            "grid_auto_columns": null,
            "grid_auto_flow": null,
            "grid_auto_rows": null,
            "grid_column": null,
            "grid_gap": null,
            "grid_row": null,
            "grid_template_areas": null,
            "grid_template_columns": null,
            "grid_template_rows": null,
            "height": null,
            "justify_content": null,
            "justify_items": null,
            "left": null,
            "margin": null,
            "max_height": null,
            "max_width": null,
            "min_height": null,
            "min_width": null,
            "object_fit": null,
            "object_position": null,
            "order": null,
            "overflow": null,
            "overflow_x": null,
            "overflow_y": null,
            "padding": null,
            "right": null,
            "top": null,
            "visibility": null,
            "width": null
          }
        },
        "c4e4047e0de04371bc897b15f34bb4b9": {
          "model_module": "@jupyter-widgets/base",
          "model_name": "LayoutModel",
          "model_module_version": "1.2.0",
          "state": {
            "_model_module": "@jupyter-widgets/base",
            "_model_module_version": "1.2.0",
            "_model_name": "LayoutModel",
            "_view_count": null,
            "_view_module": "@jupyter-widgets/base",
            "_view_module_version": "1.2.0",
            "_view_name": "LayoutView",
            "align_content": null,
            "align_items": null,
            "align_self": null,
            "border": null,
            "bottom": null,
            "display": null,
            "flex": null,
            "flex_flow": null,
            "grid_area": null,
            "grid_auto_columns": null,
            "grid_auto_flow": null,
            "grid_auto_rows": null,
            "grid_column": null,
            "grid_gap": null,
            "grid_row": null,
            "grid_template_areas": null,
            "grid_template_columns": null,
            "grid_template_rows": null,
            "height": null,
            "justify_content": null,
            "justify_items": null,
            "left": null,
            "margin": null,
            "max_height": null,
            "max_width": null,
            "min_height": null,
            "min_width": null,
            "object_fit": null,
            "object_position": null,
            "order": null,
            "overflow": null,
            "overflow_x": null,
            "overflow_y": null,
            "padding": null,
            "right": null,
            "top": null,
            "visibility": null,
            "width": null
          }
        },
        "bf3999b91ee841f98ba99e9549a9a581": {
          "model_module": "@jupyter-widgets/controls",
          "model_name": "DescriptionStyleModel",
          "model_module_version": "1.5.0",
          "state": {
            "_model_module": "@jupyter-widgets/controls",
            "_model_module_version": "1.5.0",
            "_model_name": "DescriptionStyleModel",
            "_view_count": null,
            "_view_module": "@jupyter-widgets/base",
            "_view_module_version": "1.2.0",
            "_view_name": "StyleView",
            "description_width": ""
          }
        },
        "35026c01126744059a5d0efbd71a5286": {
          "model_module": "@jupyter-widgets/base",
          "model_name": "LayoutModel",
          "model_module_version": "1.2.0",
          "state": {
            "_model_module": "@jupyter-widgets/base",
            "_model_module_version": "1.2.0",
            "_model_name": "LayoutModel",
            "_view_count": null,
            "_view_module": "@jupyter-widgets/base",
            "_view_module_version": "1.2.0",
            "_view_name": "LayoutView",
            "align_content": null,
            "align_items": null,
            "align_self": null,
            "border": null,
            "bottom": null,
            "display": null,
            "flex": null,
            "flex_flow": null,
            "grid_area": null,
            "grid_auto_columns": null,
            "grid_auto_flow": null,
            "grid_auto_rows": null,
            "grid_column": null,
            "grid_gap": null,
            "grid_row": null,
            "grid_template_areas": null,
            "grid_template_columns": null,
            "grid_template_rows": null,
            "height": null,
            "justify_content": null,
            "justify_items": null,
            "left": null,
            "margin": null,
            "max_height": null,
            "max_width": null,
            "min_height": null,
            "min_width": null,
            "object_fit": null,
            "object_position": null,
            "order": null,
            "overflow": null,
            "overflow_x": null,
            "overflow_y": null,
            "padding": null,
            "right": null,
            "top": null,
            "visibility": null,
            "width": null
          }
        },
        "1ba04e4bfed747b4be8e9111d1028ae5": {
          "model_module": "@jupyter-widgets/controls",
          "model_name": "DescriptionStyleModel",
          "model_module_version": "1.5.0",
          "state": {
            "_model_module": "@jupyter-widgets/controls",
            "_model_module_version": "1.5.0",
            "_model_name": "DescriptionStyleModel",
            "_view_count": null,
            "_view_module": "@jupyter-widgets/base",
            "_view_module_version": "1.2.0",
            "_view_name": "StyleView",
            "description_width": ""
          }
        },
        "f67e7e57377f42518abc01727cee5298": {
          "model_module": "@jupyter-widgets/base",
          "model_name": "LayoutModel",
          "model_module_version": "1.2.0",
          "state": {
            "_model_module": "@jupyter-widgets/base",
            "_model_module_version": "1.2.0",
            "_model_name": "LayoutModel",
            "_view_count": null,
            "_view_module": "@jupyter-widgets/base",
            "_view_module_version": "1.2.0",
            "_view_name": "LayoutView",
            "align_content": null,
            "align_items": null,
            "align_self": null,
            "border": null,
            "bottom": null,
            "display": null,
            "flex": null,
            "flex_flow": null,
            "grid_area": null,
            "grid_auto_columns": null,
            "grid_auto_flow": null,
            "grid_auto_rows": null,
            "grid_column": null,
            "grid_gap": null,
            "grid_row": null,
            "grid_template_areas": null,
            "grid_template_columns": null,
            "grid_template_rows": null,
            "height": null,
            "justify_content": null,
            "justify_items": null,
            "left": null,
            "margin": null,
            "max_height": null,
            "max_width": null,
            "min_height": null,
            "min_width": null,
            "object_fit": null,
            "object_position": null,
            "order": null,
            "overflow": null,
            "overflow_x": null,
            "overflow_y": null,
            "padding": null,
            "right": null,
            "top": null,
            "visibility": null,
            "width": null
          }
        },
        "27de3f22f63a41f3ae504f78d1838ce3": {
          "model_module": "@jupyter-widgets/controls",
          "model_name": "DescriptionStyleModel",
          "model_module_version": "1.5.0",
          "state": {
            "_model_module": "@jupyter-widgets/controls",
            "_model_module_version": "1.5.0",
            "_model_name": "DescriptionStyleModel",
            "_view_count": null,
            "_view_module": "@jupyter-widgets/base",
            "_view_module_version": "1.2.0",
            "_view_name": "StyleView",
            "description_width": ""
          }
        },
        "f2a7fd090dff4f02a6946e6e2de96001": {
          "model_module": "@jupyter-widgets/base",
          "model_name": "LayoutModel",
          "model_module_version": "1.2.0",
          "state": {
            "_model_module": "@jupyter-widgets/base",
            "_model_module_version": "1.2.0",
            "_model_name": "LayoutModel",
            "_view_count": null,
            "_view_module": "@jupyter-widgets/base",
            "_view_module_version": "1.2.0",
            "_view_name": "LayoutView",
            "align_content": null,
            "align_items": null,
            "align_self": null,
            "border": null,
            "bottom": null,
            "display": null,
            "flex": null,
            "flex_flow": null,
            "grid_area": null,
            "grid_auto_columns": null,
            "grid_auto_flow": null,
            "grid_auto_rows": null,
            "grid_column": null,
            "grid_gap": null,
            "grid_row": null,
            "grid_template_areas": null,
            "grid_template_columns": null,
            "grid_template_rows": null,
            "height": null,
            "justify_content": null,
            "justify_items": null,
            "left": null,
            "margin": null,
            "max_height": null,
            "max_width": null,
            "min_height": null,
            "min_width": null,
            "object_fit": null,
            "object_position": null,
            "order": null,
            "overflow": null,
            "overflow_x": null,
            "overflow_y": null,
            "padding": null,
            "right": null,
            "top": null,
            "visibility": null,
            "width": null
          }
        },
        "e56984b364e5414e895732c5665dd726": {
          "model_module": "@jupyter-widgets/controls",
          "model_name": "DescriptionStyleModel",
          "model_module_version": "1.5.0",
          "state": {
            "_model_module": "@jupyter-widgets/controls",
            "_model_module_version": "1.5.0",
            "_model_name": "DescriptionStyleModel",
            "_view_count": null,
            "_view_module": "@jupyter-widgets/base",
            "_view_module_version": "1.2.0",
            "_view_name": "StyleView",
            "description_width": ""
          }
        },
        "e0ae21fdaf7e4a1bbb9349c095a29857": {
          "model_module": "@jupyter-widgets/base",
          "model_name": "LayoutModel",
          "model_module_version": "1.2.0",
          "state": {
            "_model_module": "@jupyter-widgets/base",
            "_model_module_version": "1.2.0",
            "_model_name": "LayoutModel",
            "_view_count": null,
            "_view_module": "@jupyter-widgets/base",
            "_view_module_version": "1.2.0",
            "_view_name": "LayoutView",
            "align_content": null,
            "align_items": null,
            "align_self": null,
            "border": null,
            "bottom": null,
            "display": null,
            "flex": null,
            "flex_flow": null,
            "grid_area": null,
            "grid_auto_columns": null,
            "grid_auto_flow": null,
            "grid_auto_rows": null,
            "grid_column": null,
            "grid_gap": null,
            "grid_row": null,
            "grid_template_areas": null,
            "grid_template_columns": null,
            "grid_template_rows": null,
            "height": null,
            "justify_content": null,
            "justify_items": null,
            "left": null,
            "margin": null,
            "max_height": null,
            "max_width": null,
            "min_height": null,
            "min_width": null,
            "object_fit": null,
            "object_position": null,
            "order": null,
            "overflow": null,
            "overflow_x": null,
            "overflow_y": null,
            "padding": null,
            "right": null,
            "top": null,
            "visibility": null,
            "width": null
          }
        },
        "6635839e1897451eac42d6a1d83c010e": {
          "model_module": "@jupyter-widgets/controls",
          "model_name": "DescriptionStyleModel",
          "model_module_version": "1.5.0",
          "state": {
            "_model_module": "@jupyter-widgets/controls",
            "_model_module_version": "1.5.0",
            "_model_name": "DescriptionStyleModel",
            "_view_count": null,
            "_view_module": "@jupyter-widgets/base",
            "_view_module_version": "1.2.0",
            "_view_name": "StyleView",
            "description_width": ""
          }
        },
        "e7b3626eae9a4622a5c33854a35256d9": {
          "model_module": "@jupyter-widgets/base",
          "model_name": "LayoutModel",
          "model_module_version": "1.2.0",
          "state": {
            "_model_module": "@jupyter-widgets/base",
            "_model_module_version": "1.2.0",
            "_model_name": "LayoutModel",
            "_view_count": null,
            "_view_module": "@jupyter-widgets/base",
            "_view_module_version": "1.2.0",
            "_view_name": "LayoutView",
            "align_content": null,
            "align_items": null,
            "align_self": null,
            "border": null,
            "bottom": null,
            "display": null,
            "flex": null,
            "flex_flow": null,
            "grid_area": null,
            "grid_auto_columns": null,
            "grid_auto_flow": null,
            "grid_auto_rows": null,
            "grid_column": null,
            "grid_gap": null,
            "grid_row": null,
            "grid_template_areas": null,
            "grid_template_columns": null,
            "grid_template_rows": null,
            "height": null,
            "justify_content": null,
            "justify_items": null,
            "left": null,
            "margin": null,
            "max_height": null,
            "max_width": null,
            "min_height": null,
            "min_width": null,
            "object_fit": null,
            "object_position": null,
            "order": null,
            "overflow": null,
            "overflow_x": null,
            "overflow_y": null,
            "padding": null,
            "right": null,
            "top": null,
            "visibility": null,
            "width": null
          }
        },
        "10b6b7757d4f46a58ee5da8ca672985d": {
          "model_module": "@jupyter-widgets/controls",
          "model_name": "ButtonStyleModel",
          "model_module_version": "1.5.0",
          "state": {
            "_model_module": "@jupyter-widgets/controls",
            "_model_module_version": "1.5.0",
            "_model_name": "ButtonStyleModel",
            "_view_count": null,
            "_view_module": "@jupyter-widgets/base",
            "_view_module_version": "1.2.0",
            "_view_name": "StyleView",
            "button_color": null,
            "font_weight": ""
          }
        },
        "afb5bf489bfb4c6db77a050c755ea938": {
          "model_module": "@jupyter-widgets/base",
          "model_name": "LayoutModel",
          "model_module_version": "1.2.0",
          "state": {
            "_model_module": "@jupyter-widgets/base",
            "_model_module_version": "1.2.0",
            "_model_name": "LayoutModel",
            "_view_count": null,
            "_view_module": "@jupyter-widgets/base",
            "_view_module_version": "1.2.0",
            "_view_name": "LayoutView",
            "align_content": null,
            "align_items": null,
            "align_self": null,
            "border": null,
            "bottom": null,
            "display": null,
            "flex": null,
            "flex_flow": null,
            "grid_area": null,
            "grid_auto_columns": null,
            "grid_auto_flow": null,
            "grid_auto_rows": null,
            "grid_column": null,
            "grid_gap": null,
            "grid_row": null,
            "grid_template_areas": null,
            "grid_template_columns": null,
            "grid_template_rows": null,
            "height": null,
            "justify_content": null,
            "justify_items": null,
            "left": null,
            "margin": null,
            "max_height": null,
            "max_width": null,
            "min_height": null,
            "min_width": null,
            "object_fit": null,
            "object_position": null,
            "order": null,
            "overflow": null,
            "overflow_x": null,
            "overflow_y": null,
            "padding": null,
            "right": null,
            "top": null,
            "visibility": null,
            "width": null
          }
        }
      }
    }
  },
  "nbformat": 4,
  "nbformat_minor": 0
}